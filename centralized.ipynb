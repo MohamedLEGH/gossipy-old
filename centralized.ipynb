{
 "cells": [
  {
   "cell_type": "code",
   "execution_count": 1,
   "id": "29c9343b-2791-4d61-b2b8-95ff4e0bb4de",
   "metadata": {},
   "outputs": [],
   "source": [
    "import time\n",
    "import numpy as np\n",
    "import pandas as pd\n",
    "from sklearn.linear_model import LogisticRegression\n",
    "from sklearn.svm import LinearSVC\n",
    "from sklearn.model_selection import train_test_split\n",
    "# from sklearn.metrics import accuracy_score\n",
    "from sklearn.preprocessing import StandardScaler, LabelEncoder\n"
   ]
  },
  {
   "cell_type": "code",
   "execution_count": 2,
   "id": "c49a3ecc-a1a8-40d4-b85f-aba70bfd6c26",
   "metadata": {},
   "outputs": [],
   "source": [
    "import torch\n",
    "import torch.nn as nn\n",
    "import torch.optim as optim"
   ]
  },
  {
   "cell_type": "code",
   "execution_count": 3,
   "id": "5ac378fa-07c6-482c-a505-0c1395dffe8a",
   "metadata": {},
   "outputs": [],
   "source": [
    "from gossipy.model.nn import AdaLine\n",
    "from gossipy.model.handler import PegasosHandler, AdaLineHandler\n",
    "from gossipy.data.handler import ClassificationDataHandler"
   ]
  },
  {
   "cell_type": "code",
   "execution_count": 6,
   "id": "afc0b771-0750-4060-88aa-2f8965ae838c",
   "metadata": {},
   "outputs": [],
   "source": [
    "df = pd.read_csv(\"spambase.csv\")\n",
    "X = df.loc[:, df.columns != \"is_spam\"]\n",
    "y = df.is_spam\n",
    "x_train, x_test, y_train, y_test = train_test_split(X, y, test_size=0.1, random_state=0, shuffle=True)"
   ]
  },
  {
   "cell_type": "code",
   "execution_count": 10,
   "id": "157f4f4c-b6e6-4225-abd5-401a7ace8c1d",
   "metadata": {},
   "outputs": [],
   "source": [
    "logreg = LogisticRegression(max_iter=10000)"
   ]
  },
  {
   "cell_type": "code",
   "execution_count": 11,
   "id": "b24b3108-cfd0-44f1-ab40-581bfd28d24f",
   "metadata": {},
   "outputs": [],
   "source": [
    "svc = LinearSVC(max_iter=10000, dual=False) # Prefer dual=False when n_samples > n_features."
   ]
  },
  {
   "cell_type": "code",
   "execution_count": 8,
   "id": "4456f58a-420a-4518-b38d-7188f54b82a2",
   "metadata": {},
   "outputs": [
    {
     "name": "stdout",
     "output_type": "stream",
     "text": [
      "######## Test with all the data ########\n",
      "\n",
      "accuracy logreg is 0.9197396963123644\n",
      "time training logreg is 0.6922411918640137 secondes\n",
      "number of iterations logreg is [1459]\n"
     ]
    }
   ],
   "source": [
    "print(\"######## Test with all the data ########\\n\")\n",
    "\n",
    "# LogReg\n",
    "start_time = time.time()\n",
    "logreg.fit(x_train, y_train)\n",
    "end_time = time.time()\n",
    "learning_time = end_time - start_time\n",
    "score = logreg.score(x_test, y_test)\n",
    "print(\"accuracy logreg is\", score)\n",
    "print(\"time training logreg is\", learning_time, \"secondes\")\n",
    "print(\"number of iterations logreg is\", logreg.n_iter_)"
   ]
  },
  {
   "cell_type": "code",
   "execution_count": 9,
   "id": "e5cc2701-891f-48d4-81c2-43be0f5ae9a3",
   "metadata": {},
   "outputs": [
    {
     "name": "stdout",
     "output_type": "stream",
     "text": [
      "accuracy svc is 0.911062906724512\n",
      "time training svc is 0.03172636032104492 secondes\n",
      "number of iterations svc is 34\n"
     ]
    }
   ],
   "source": [
    "# SVC\n",
    "start_time = time.time()\n",
    "svc.fit(x_train, y_train)\n",
    "end_time = time.time()\n",
    "learning_time = end_time - start_time\n",
    "score = svc.score(x_test, y_test)\n",
    "print(\"accuracy svc is\", score)\n",
    "print(\"time training svc is\", learning_time, \"secondes\")\n",
    "print(\"number of iterations svc is\", svc.n_iter_)"
   ]
  },
  {
   "cell_type": "code",
   "execution_count": 12,
   "id": "2de12fc4-3ea2-4340-b64b-ce3294d790d9",
   "metadata": {},
   "outputs": [],
   "source": [
    "## test size = 0.25\n",
    "# Accuracy logreg = 0.9018245004344049\n",
    "# SOTA logistic regression = 0.91\n",
    "# SOTA = 0.95 (Xgboost classification)\n",
    "\n",
    "#Time training logreg 0.5178978443145752 secondes\n",
    "\n",
    "## test size = 0.1 (same as gossip paper)\n",
    "#accuracy logreg is 0.9197396963123644\n",
    "#time training logreg is 0.49722909927368164 secondes\n",
    "#accuracy svc is 0.911062906724512\n",
    "#time training svc is 0.06670951843261719 secondes"
   ]
  },
  {
   "cell_type": "code",
   "execution_count": 13,
   "id": "2f17e3ad-39e8-43a1-98e3-1ccecdb83ccd",
   "metadata": {},
   "outputs": [
    {
     "name": "stdout",
     "output_type": "stream",
     "text": [
      "\n",
      "######## Test with 1/5 of the data ########\n",
      "\n",
      "accuracy logreg is 0.9130434782608695\n",
      "time training logreg is 0.2903566360473633 secondes\n",
      "number of iterations logreg is [952]\n",
      "accuracy svc is 0.8804347826086957\n",
      "time training svc is 0.008406877517700195 secondes\n",
      "number of iterations svc is 48\n"
     ]
    }
   ],
   "source": [
    "######## Test with 1/5 of the data\n",
    "print(\"\\n######## Test with 1/5 of the data ########\\n\")\n",
    "\n",
    "df_sample = df.sample(frac=0.2, random_state=42)\n",
    "X = df_sample.loc[:, df_sample.columns != \"is_spam\"]\n",
    "y = df_sample.is_spam\n",
    "\n",
    "x_train, x_test, y_train, y_test = train_test_split(X, y, test_size=0.1, random_state=1, shuffle=True)\n",
    "logreg = LogisticRegression(max_iter=10000)\n",
    "svc = LinearSVC(max_iter=10000, dual=False)\n",
    "\n",
    "# LogReg\n",
    "start_time = time.time()\n",
    "logreg.fit(x_train, y_train)\n",
    "end_time = time.time()\n",
    "learning_time = end_time - start_time\n",
    "score = logreg.score(x_test, y_test)\n",
    "print(\"accuracy logreg is\", score)\n",
    "print(\"time training logreg is\", learning_time, \"secondes\")\n",
    "print(\"number of iterations logreg is\", logreg.n_iter_)\n",
    "\n",
    "# SVC\n",
    "start_time = time.time()\n",
    "svc.fit(x_train, y_train)\n",
    "end_time = time.time()\n",
    "learning_time = end_time - start_time\n",
    "score = svc.score(x_test, y_test)\n",
    "print(\"accuracy svc is\", score)\n",
    "print(\"time training svc is\", learning_time, \"secondes\")\n",
    "print(\"number of iterations svc is\", svc.n_iter_)"
   ]
  },
  {
   "cell_type": "code",
   "execution_count": 14,
   "id": "61d99dd9-70cb-47e0-91e7-fd4fa23a1927",
   "metadata": {},
   "outputs": [],
   "source": [
    "## test size = 0.25\n",
    "# Accuracy logreg = 0.9260869565217391\n",
    "#Time training logreg 0.18087124824523926 secondes\n",
    "## test size = 0.1 (same as gossip paper)\n",
    "#accuracy logreg is 0.9130434782608695\n",
    "#time training logreg is 0.2187948226928711 secondes\n",
    "#accuracy svc is 0.8804347826086957\n",
    "#time svc is 0.008883953094482422 secondes"
   ]
  },
  {
   "cell_type": "code",
   "execution_count": 15,
   "id": "f4313aa3-d1bd-47e7-884f-c3c13169188c",
   "metadata": {},
   "outputs": [
    {
     "name": "stdout",
     "output_type": "stream",
     "text": [
      "\n",
      "######## Test with 1/100 of the data ########\n",
      "\n",
      "accuracy logreg is 0.6\n",
      "time training logreg is 0.026860952377319336 secondes\n",
      "number of iterations logreg is [423]\n",
      "accuracy svc is 0.8\n",
      "time training svc is 0.0012454986572265625 secondes\n",
      "number of iterations svc 49\n"
     ]
    }
   ],
   "source": [
    "######## Test with 1/100 of the data\n",
    "print(\"\\n######## Test with 1/100 of the data ########\\n\")\n",
    "\n",
    "df_sample = df.sample(frac=0.01, random_state=42)\n",
    "X = df_sample.loc[:, df_sample.columns != \"is_spam\"]\n",
    "y = df_sample.is_spam\n",
    "\n",
    "x_train, x_test, y_train, y_test = train_test_split(X, y, test_size=0.1, random_state=2, shuffle=True)\n",
    "logreg = LogisticRegression(max_iter=10000)\n",
    "svc = LinearSVC(max_iter=10000, dual=False)\n",
    "\n",
    "# LogReg\n",
    "start_time = time.time()\n",
    "logreg.fit(x_train, y_train)\n",
    "end_time = time.time()\n",
    "learning_time = end_time - start_time\n",
    "score = logreg.score(x_test, y_test)\n",
    "print(\"accuracy logreg is\", score)\n",
    "print(\"time training logreg is\", learning_time, \"secondes\")\n",
    "print(\"number of iterations logreg is\", logreg.n_iter_)\n",
    "\n",
    "# SVC\n",
    "start_time = time.time()\n",
    "svc.fit(x_train, y_train)\n",
    "end_time = time.time()\n",
    "learning_time = end_time - start_time\n",
    "score = svc.score(x_test, y_test)\n",
    "print(\"accuracy svc is\", score)\n",
    "print(\"time training svc is\", learning_time, \"secondes\")\n",
    "print(\"number of iterations svc\", svc.n_iter_)"
   ]
  },
  {
   "cell_type": "code",
   "execution_count": 16,
   "id": "8eb96ac9-fd32-421d-80fc-499b43404a6b",
   "metadata": {},
   "outputs": [],
   "source": [
    "## test size = 0.25\n",
    "# Accuracy logreg = 0.5833333333333334\n",
    "#Time training logreg 0.04704427719116211 secondes\n",
    "## test size = 0.1 (same as gossip learning paper)\n",
    "#accuracy logreg is 0.6\n",
    "#time training logreg is 0.039453744888305664 secondes\n",
    "#accuracy svc is 0.8\n",
    "#time training svc is 0.002503633499145508 secondes"
   ]
  },
  {
   "cell_type": "code",
   "execution_count": 17,
   "id": "cb37facb-6158-465f-87ff-f8fe4595b785",
   "metadata": {},
   "outputs": [
    {
     "name": "stdout",
     "output_type": "stream",
     "text": [
      "\n",
      "################ Adaline and Pegasos ################\n",
      "\n"
     ]
    }
   ],
   "source": [
    "################ Adaline and Pegasos ################\n",
    "print(\"\\n################ Adaline and Pegasos ################\\n\")\n",
    "data = df.to_numpy()\n",
    "y = LabelEncoder().fit_transform(data[:, 57])\n",
    "X = np.delete(data, [57], axis=1).astype('float64')\n",
    "X = StandardScaler().fit_transform(X)\n",
    "X = torch.tensor(X).float()\n",
    "y = torch.tensor(y).long()\n",
    "y = 2*y - 1 #convert 0/1 labels to -1/1\n",
    "data_handler = ClassificationDataHandler(X, y, test_size=.1)"
   ]
  },
  {
   "cell_type": "code",
   "execution_count": 18,
   "id": "e7926909-2a78-4d18-91fc-13de6e999377",
   "metadata": {},
   "outputs": [],
   "source": [
    "model = AdaLine(data_handler.size(1))\n",
    "learning_rate = .01"
   ]
  },
  {
   "cell_type": "code",
   "execution_count": 36,
   "id": "20cf1dcf-8e31-46dd-8229-ed1a51fc4fa5",
   "metadata": {},
   "outputs": [
    {
     "ename": "SyntaxError",
     "evalue": "invalid syntax (3197155336.py, line 19)",
     "output_type": "error",
     "traceback": [
      "\u001b[0;36m  Cell \u001b[0;32mIn[36], line 19\u001b[0;36m\u001b[0m\n\u001b[0;31m    No results with AdaLineHandler (NaN values or accuracy = 0)\u001b[0m\n\u001b[0m       ^\u001b[0m\n\u001b[0;31mSyntaxError\u001b[0m\u001b[0;31m:\u001b[0m invalid syntax\n"
     ]
    }
   ],
   "source": [
    "# AdaLineHandler doesn't work\n",
    "\n",
    "handler = AdaLineHandler(net=model, learning_rate=learning_rate)\n",
    "handler.init()\n",
    "\n",
    "num_epochs = 1000\n",
    "start_time = time.time()\n",
    "for epoch in range(num_epochs):\n",
    "    handler._update(data_handler.get_train_set())\n",
    "end_time = time.time()\n",
    "learning_time = end_time - start_time\n",
    "\n",
    "scores = handler.evaluate(data_handler.get_eval_set())\n",
    "\n",
    "print(\"AdaLineHandler\\n\")\n",
    "print(scores)\n",
    "print(\"time training AdaLine is\", learning_time, \"secondes\")\n",
    "print(\"number of iterations AdaLine: \", num_epochs)\n",
    "No results with AdaLineHandler (NaN values or accuracy = 0)"
   ]
  },
  {
   "cell_type": "code",
   "execution_count": 39,
   "id": "b37bd026-1fe2-40ce-afa5-0f1068718ee2",
   "metadata": {},
   "outputs": [
    {
     "name": "stdout",
     "output_type": "stream",
     "text": [
      "PegasosHandler\n",
      "\n",
      "{'accuracy': 0.7777777777777778, 'precision': 0.875, 'recall': 0.6666666666666666, 'f1_score': 0.6785714285714286, 'auc': 1.0}\n",
      "time training Pegasos is 1.922757625579834 secondes\n",
      "number of iterations Pegasos:  1000\n"
     ]
    }
   ],
   "source": [
    "handler = PegasosHandler(net=model, learning_rate=learning_rate)\n",
    "handler.init()\n",
    "\n",
    "num_epochs = 1000\n",
    "start_time = time.time()\n",
    "for epoch in range(num_epochs):\n",
    "    handler._update(data_handler.get_train_set())\n",
    "end_time = time.time()\n",
    "learning_time = end_time - start_time\n",
    "\n",
    "scores = handler.evaluate(data_handler.get_eval_set())\n",
    "\n",
    "# PegasosHandler :\n",
    "print(\"PegasosHandler\\n\")\n",
    "print(scores)\n",
    "print(\"time training Pegasos is\", learning_time, \"secondes\")\n",
    "print(\"number of iterations Pegasos: \", num_epochs)"
   ]
  },
  {
   "cell_type": "code",
   "execution_count": 22,
   "id": "d4030332-92e0-4af8-82d9-64d23cd5be4c",
   "metadata": {},
   "outputs": [],
   "source": [
    "## test size : 0.1\n",
    "\n",
    "## without label transformation\n",
    "#number of iterations Pegasos:  10000\n",
    "#{'accuracy': 0.3869565217391304, 'precision': 0.17198067632850242, 'recall': 0.33147113594040967, 'f1_score': 0.22646310432569972, 'auc': 0.9376727171514344}\n",
    "#time training Pegasos is 128.36589860916138 secondes\n",
    "\n",
    "## with y = 2*y - 1 : 0/1 => -1/1\n",
    "#number of iterations Pegasos:  10000\n",
    "#{'accuracy': 0.9282608695652174, 'precision': 0.928498985801217, 'recall': 0.9199884689556452, 'f1_score': 0.923825390532871, 'auc': 0.9678721246943279}\n",
    "#time training Pegasos is 126.20047402381897 secondes\n",
    "\n",
    "# number of iterations Pegasos:  100\n",
    "# {'accuracy': 0.9260869565217391, 'precision': 0.9256561241627714, 'recall': 0.9182091095250402, 'f1_score': 0.9216040100250626, 'auc': 0.9678124813614585}\n",
    "# time training Pegasos is 12.187886238098145 secondes\n",
    "\n",
    "# number of iterations Pegasos:  10\n",
    "# {'accuracy': 0.9260869565217391, 'precision': 0.9256561241627714, 'recall': 0.9182091095250402, 'f1_score': 0.9216040100250626, 'auc': 0.9680112924710231}\n",
    "# time training Pegasos is 1.2688534259796143 secondes\n",
    "\n",
    "# number of iterations Pegasos:  1\n",
    "# {'accuracy': 0.9108695652173913, 'precision': 0.9130685563612393, 'recall': 0.8986560368993419, 'f1_score': 0.9047046399644285, 'auc': 0.9596612258693016}\n",
    "# time training Pegasos is 0.13678455352783203 secondes\n",
    "\n",
    "# number of iterations Pegasos:  0\n",
    "# {'accuracy': 0.38913043478260867, 'precision': 0.19456521739130433, 'recall': 0.5, 'f1_score': 0.28012519561815336, 'auc': 0.5}\n"
   ]
  },
  {
   "cell_type": "code",
   "execution_count": 23,
   "id": "13f67705-8203-4772-a896-27b263dfc736",
   "metadata": {},
   "outputs": [
    {
     "name": "stdout",
     "output_type": "stream",
     "text": [
      "\n",
      "######## Test with 1/5 of the data ########\n",
      "\n",
      "PegasosHandler\n",
      "\n",
      "{'accuracy': 0.45652173913043476, 'precision': 0.22826086956521738, 'recall': 0.5, 'f1_score': 0.3134328358208955, 'auc': 0.5}\n",
      "time training Pegasos is 9.202957153320312e-05 secondes\n",
      "number of iterations Pegasos:  0\n"
     ]
    }
   ],
   "source": [
    "######## Test with 1/5 of the data\n",
    "print(\"\\n######## Test with 1/5 of the data ########\\n\")\n",
    "\n",
    "df_sample = df.sample(frac=0.2, random_state=42)\n",
    "data = df_sample.to_numpy()\n",
    "y = LabelEncoder().fit_transform(data[:, 57])\n",
    "X = np.delete(data, [57], axis=1).astype('float64')\n",
    "X = StandardScaler().fit_transform(X)\n",
    "X = torch.tensor(X).float()\n",
    "y = torch.tensor(y).long()\n",
    "y = 2*y - 1 #convert 0/1 labels to -1/1\n",
    "data_handler = ClassificationDataHandler(X, y, test_size=.1)\n",
    "\n",
    "model = AdaLine(data_handler.size(1))\n",
    "learning_rate = .01\n",
    "handler = PegasosHandler(net=model, learning_rate=learning_rate)\n",
    "handler.init()\n",
    "\n",
    "num_epochs = 0\n",
    "start_time = time.time()\n",
    "for epoch in range(num_epochs):\n",
    "    handler._update(data_handler.get_train_set())\n",
    "end_time = time.time()\n",
    "learning_time = end_time - start_time\n",
    "\n",
    "scores = handler.evaluate(data_handler.get_eval_set())\n",
    "\n",
    "print(\"PegasosHandler\\n\")\n",
    "print(scores)\n",
    "print(\"time training Pegasos is\", learning_time, \"secondes\")\n",
    "print(\"number of iterations Pegasos: \", num_epochs)\n"
   ]
  },
  {
   "cell_type": "code",
   "execution_count": 24,
   "id": "513cacdd-01e2-4bc1-9d12-59855c86bb94",
   "metadata": {},
   "outputs": [],
   "source": [
    "## test size : 0.1\n",
    "\n",
    "# number of iterations Pegasos:  0\n",
    "# {'accuracy': 0.45652173913043476, 'precision': 0.22826086956521738, 'recall': 0.5, 'f1_score': 0.3134328358208955, 'auc': 0.5}\n",
    "\n",
    "# number of iterations Pegasos:  10\n",
    "# {'accuracy': 0.9565217391304348, 'precision': 0.9561904761904761, 'recall': 0.9561904761904761, 'f1_score': 0.9561904761904761, 'auc': 0.9828571428571429}\n",
    "# time training Pegasos is 0.3742356300354004 secondes\n",
    "\n",
    "# number of iterations Pegasos:  100\n",
    "# {'accuracy': 0.9565217391304348, 'precision': 0.9561904761904761, 'recall': 0.9561904761904761, 'f1_score': 0.9561904761904761, 'auc': 0.9852380952380951}\n",
    "# time training Pegasos is 3.377408027648926 secondes"
   ]
  },
  {
   "cell_type": "code",
   "execution_count": 25,
   "id": "c0413164-2b53-4509-b9f9-b9b7ea4b3784",
   "metadata": {},
   "outputs": [
    {
     "name": "stdout",
     "output_type": "stream",
     "text": [
      "\n",
      "######## Test with 1/100 of the data ########\n",
      "\n",
      "PegasosHandler\n",
      "\n",
      "{'accuracy': 0.7777777777777778, 'precision': 0.875, 'recall': 0.6666666666666666, 'f1_score': 0.6785714285714286, 'auc': 1.0}\n",
      "time training Pegasos is 0.0026552677154541016 secondes\n",
      "number of iterations Pegasos:  2\n"
     ]
    }
   ],
   "source": [
    "print(\"\\n######## Test with 1/100 of the data ########\\n\")\n",
    "\n",
    "df_sample = df.sample(frac=0.01, random_state=42)\n",
    "data = df_sample.to_numpy()\n",
    "y = LabelEncoder().fit_transform(data[:, 57])\n",
    "X = np.delete(data, [57], axis=1).astype('float64')\n",
    "X = StandardScaler().fit_transform(X)\n",
    "X = torch.tensor(X).float()\n",
    "y = torch.tensor(y).long()\n",
    "y = 2*y - 1 #convert 0/1 labels to -1/1\n",
    "data_handler = ClassificationDataHandler(X, y, test_size=.2)\n",
    "\n",
    "model = AdaLine(data_handler.size(1))\n",
    "learning_rate = .01\n",
    "handler = PegasosHandler(net=model, learning_rate=learning_rate)\n",
    "handler.init()\n",
    "\n",
    "num_epochs = 2\n",
    "start_time = time.time()\n",
    "for epoch in range(num_epochs):\n",
    "    handler._update(data_handler.get_train_set())\n",
    "end_time = time.time()\n",
    "learning_time = end_time - start_time\n",
    "\n",
    "scores = handler.evaluate(data_handler.get_eval_set())\n",
    "\n",
    "print(\"PegasosHandler\\n\")\n",
    "print(scores)\n",
    "print(\"time training Pegasos is\", learning_time, \"secondes\")\n",
    "print(\"number of iterations Pegasos: \", num_epochs)\n"
   ]
  },
  {
   "cell_type": "code",
   "execution_count": 26,
   "id": "1a6df1ca-48a5-4829-994b-65df00fe7866",
   "metadata": {},
   "outputs": [],
   "source": [
    "## test size : 0.1\n",
    "\n",
    "# number of iterations Pegasos:  0\n",
    "# {'accuracy': 0.2, 'precision': 0.1, 'recall': 0.5, 'f1_score': 0.16666666666666669, 'auc': 0.5}\n",
    "\n",
    "# number of iterations Pegasos:  10\n",
    "# {'accuracy': 1.0, 'precision': 1.0, 'recall': 1.0, 'f1_score': 1.0, 'auc': 1.0}\n",
    "# time training Pegasos is 0.01704096794128418 secondes\n",
    "\n",
    "# number of iterations Pegasos:  100\n",
    "# {'accuracy': 1.0, 'precision': 1.0, 'recall': 1.0, 'f1_score': 1.0, 'auc': 1.0}\n",
    "# time training Pegasos is 0.174515962600708 secondes\n",
    "\n",
    "## test size : 0.2\n",
    "\n",
    "# number of iterations Pegasos:  0\n",
    "# {'accuracy': 0.3333333333333333, 'precision': 0.16666666666666666, 'recall': 0.5, 'f1_score': 0.25, 'auc': 0.5}\n",
    "\n",
    "# number of iterations Pegasos:  1\n",
    "# {'accuracy': 1.0, 'precision': 1.0, 'recall': 1.0, 'f1_score': 1.0, 'auc': 1.0}\n",
    "# time training Pegasos is 0.0030782222747802734 secondes\n",
    "\n",
    "# number of iterations Pegasos:  2\n",
    "# {'accuracy': 0.7777777777777778, 'precision': 0.875, 'recall': 0.6666666666666666, 'f1_score': 0.6785714285714286, 'auc': 1.0}\n",
    "# time training Pegasos is 0.004636287689208984 secondes\n",
    "\n",
    "# number of iterations Pegasos:  10\n",
    "# {'accuracy': 0.7777777777777778, 'precision': 0.875, 'recall': 0.6666666666666666, 'f1_score': 0.6785714285714286, 'auc': 1.0}\n",
    "# time training Pegasos is 0.015517473220825195 secondes\n",
    "\n",
    "# number of iterations Pegasos:  100\n",
    "# {'accuracy': 0.7777777777777778, 'precision': 0.875, 'recall': 0.6666666666666666, 'f1_score': 0.6785714285714286, 'auc': 1.0}\n",
    "# time training Pegasos is 0.16272997856140137 secondes\n",
    "\n",
    "# number of iterations Pegasos:  1000\n",
    "# {'accuracy': 0.7777777777777778, 'precision': 0.875, 'recall': 0.6666666666666666, 'f1_score': 0.6785714285714286, 'auc': 1.0}\n",
    "# time training Pegasos is 1.5687329769134521 secondes\n",
    "\n",
    "## test size : 0.5\n",
    "\n",
    "# number of iterations Pegasos:  100\n",
    "# {'accuracy': 0.782608695652174, 'precision': 0.775, 'recall': 0.7619047619047619, 'f1_score': 0.7667342799188641, 'auc': 0.9126984126984127}\n",
    "# time training Pegasos is 0.10532569885253906 secondes\n"
   ]
  },
  {
   "cell_type": "code",
   "execution_count": 27,
   "id": "ba59c46b-f3e0-4404-93df-2b2e5b311364",
   "metadata": {},
   "outputs": [
    {
     "name": "stdout",
     "output_type": "stream",
     "text": [
      "\n",
      "################ Logistic Regression (Gossipy) ################\n",
      "\n"
     ]
    }
   ],
   "source": [
    "################ Logistic Regression (Gossipy) ################\n",
    "print(\"\\n################ Logistic Regression (Gossipy) ################\\n\")"
   ]
  },
  {
   "cell_type": "code",
   "execution_count": 28,
   "id": "b11249c9-4ea5-433d-9d41-b2aa2346639b",
   "metadata": {},
   "outputs": [],
   "source": [
    "#net = LogisticRegression(data_handler.Xtr.shape[1], 2)"
   ]
  },
  {
   "cell_type": "code",
   "execution_count": null,
   "id": "419fbe44-9e10-4681-ad59-dc31769cfd4c",
   "metadata": {},
   "outputs": [],
   "source": []
  }
 ],
 "metadata": {
  "kernelspec": {
   "display_name": "Python 3 (ipykernel)",
   "language": "python",
   "name": "python3"
  },
  "language_info": {
   "codemirror_mode": {
    "name": "ipython",
    "version": 3
   },
   "file_extension": ".py",
   "mimetype": "text/x-python",
   "name": "python",
   "nbconvert_exporter": "python",
   "pygments_lexer": "ipython3",
   "version": "3.11.3"
  }
 },
 "nbformat": 4,
 "nbformat_minor": 5
}
